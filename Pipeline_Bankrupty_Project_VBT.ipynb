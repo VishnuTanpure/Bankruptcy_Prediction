{
  "nbformat": 4,
  "nbformat_minor": 0,
  "metadata": {
    "colab": {
      "provenance": []
    },
    "kernelspec": {
      "name": "python3",
      "display_name": "Python 3"
    },
    "language_info": {
      "name": "python"
    }
  },
  "cells": [
    {
      "cell_type": "code",
      "source": [
        "# @title $Import \\ \\ Required \\ \\ Libraries$\n",
        "import pandas as pd\n",
        "from sklearn.compose import ColumnTransformer\n",
        "from sklearn.preprocessing import FunctionTransformer\n",
        "from imblearn.over_sampling import RandomOverSampler\n",
        "from sklearn.pipeline import Pipeline\n",
        "from sklearn.svm import SVC\n",
        "from sklearn.linear_model import LogisticRegression\n",
        "from sklearn.model_selection import train_test_split"
      ],
      "metadata": {
        "id": "8rFsbHHt3d0h",
        "cellView": "form"
      },
      "execution_count": 1,
      "outputs": []
    },
    {
      "cell_type": "code",
      "source": [
        "# @title $Upload \\ \\ Dataset$\n",
        "df = pd.read_excel('/content/Bankruptcy.xlsx')"
      ],
      "metadata": {
        "id": "ZE2m3ff73he5",
        "cellView": "form"
      },
      "execution_count": 2,
      "outputs": []
    },
    {
      "cell_type": "code",
      "source": [
        "# @title $Pipeline \\ (SVC \\ \\ Model)$\n",
        "# Functions to be used in the pipeline\n",
        "def drop_duplicates(df):\n",
        "    return df.drop_duplicates()\n",
        "\n",
        "def separate_features(df):\n",
        "    return df.drop('class', axis=1)\n",
        "\n",
        "def separate_target(df):\n",
        "    return df['class']\n",
        "\n",
        "def process_target(y):\n",
        "    return y.map({'bankruptcy': 1, 'non-bankruptcy': 0})\n",
        "\n",
        "# Preprocess the data before entering the main pipeline\n",
        "df = drop_duplicates(df)  # Drop duplicates from the DataFrame\n",
        "X = separate_features(df)  # Separate features\n",
        "y = process_target(separate_target(df))  # Separate and process the target variable\n",
        "\n",
        "# Apply oversampling before fitting the model\n",
        "ros = RandomOverSampler(random_state=42)\n",
        "X_resampled, y_resampled = ros.fit_resample(X, y)\n",
        "\n",
        "# Define the model pipeline without oversampling\n",
        "model_pipeline = Pipeline([\n",
        "    ('model', SVC(C=0.1, gamma=1, kernel='linear', tol=0.0001, random_state=42, probability=True))\n",
        "])\n",
        "\n",
        "# Fit the model with the resampled data\n",
        "model_pipeline.fit(X_resampled, y_resampled)\n",
        "\n",
        "# Prediction function\n",
        "def predict(industrial_risk, management_risk, financial_flexibility, credibility, operating_risk, competitiveness):\n",
        "    # Convert the input features to a DataFrame for compatibility with the pipeline\n",
        "    input_data = pd.DataFrame([[industrial_risk, management_risk, financial_flexibility, credibility, competitiveness, operating_risk]],\n",
        "                              columns=['industrial_risk', 'management_risk', 'financial_flexibility', 'credibility', 'competitiveness', 'operating_risk'])  # Use actual feature names\n",
        "\n",
        "    # Predict using the trained model\n",
        "    prediction = model_pipeline.predict(input_data)\n",
        "    y_proba = model_pipeline.predict_proba(input_data)\n",
        "\n",
        "\n",
        "    return prediction, y_proba\n",
        "\n",
        "# Example prediction\n",
        "\n",
        "result, y_prob = predict(0.5, 0.5, 0.5, 0.5, 0.5, 0.5)\n",
        "print(predict(0.5, 0.5, 0.5, 0.5, 0.5, 0.5))\n",
        "\n",
        "if(result == [1]):\n",
        "    print('Business is heading towards Bankruptcy')\n",
        "    print('Probability of Business going Bankrupt is',y_prob[0][1] )\n",
        "else:\n",
        "    print('Business is in safe, no threat of Bankruptcy')\n",
        "    print('Probability of Business not going Bankrupt is',y_prob[0][0] )\n"
      ],
      "metadata": {
        "colab": {
          "base_uri": "https://localhost:8080/"
        },
        "id": "yJ8I9kogzaRu",
        "outputId": "1eb9b2ae-b060-4c58-e98d-8348cb1ecdcc",
        "cellView": "form"
      },
      "execution_count": 3,
      "outputs": [
        {
          "output_type": "stream",
          "name": "stdout",
          "text": [
            "(array([0]), array([[0.86264541, 0.13735459]]))\n",
            "Business is in safe, no threat of Bankruptcy\n",
            "Probability of Business not going Bankrupt is 0.8626454052961277\n"
          ]
        }
      ]
    },
    {
      "cell_type": "code",
      "source": [
        "# @title $Pickle \\ \\ File$\n",
        "import pickle\n",
        "filename = 'bankrupty.pkl'\n",
        "pickle.dump(model_pipeline, open('bankrupty.pkl','wb'))"
      ],
      "metadata": {
        "id": "yVaxGugh0mMm",
        "cellView": "form"
      },
      "execution_count": 4,
      "outputs": []
    }
  ]
}